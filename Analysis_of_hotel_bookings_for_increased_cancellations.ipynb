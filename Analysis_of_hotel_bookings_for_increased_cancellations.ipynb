{
 "cells": [
  {
   "cell_type": "code",
   "execution_count": 144,
   "id": "810a632e",
   "metadata": {},
   "outputs": [],
   "source": [
    "#These are the required libraries required for this analysis\n",
    "import pandas as pd\n",
    "import numpy as np\n",
    "import seaborn as sns\n",
    "import matplotlib.pyplot as plt\n",
    "%matplotlib inline"
   ]
  },
  {
   "cell_type": "code",
   "execution_count": 145,
   "id": "e41757d9",
   "metadata": {},
   "outputs": [
    {
     "data": {
      "text/plain": [
       "(119390, 32)"
      ]
     },
     "execution_count": 145,
     "metadata": {},
     "output_type": "execute_result"
    }
   ],
   "source": [
    "#reading the dataset required\n",
    "hb=pd.read_csv(\"hotel_bookings.csv\")\n",
    "hb.shape"
   ]
  },
  {
   "cell_type": "code",
   "execution_count": 146,
   "id": "3ef4c4ba",
   "metadata": {},
   "outputs": [
    {
     "data": {
      "text/html": [
       "<div>\n",
       "<style scoped>\n",
       "    .dataframe tbody tr th:only-of-type {\n",
       "        vertical-align: middle;\n",
       "    }\n",
       "\n",
       "    .dataframe tbody tr th {\n",
       "        vertical-align: top;\n",
       "    }\n",
       "\n",
       "    .dataframe thead th {\n",
       "        text-align: right;\n",
       "    }\n",
       "</style>\n",
       "<table border=\"1\" class=\"dataframe\">\n",
       "  <thead>\n",
       "    <tr style=\"text-align: right;\">\n",
       "      <th></th>\n",
       "      <th>hotel</th>\n",
       "      <th>is_canceled</th>\n",
       "      <th>lead_time</th>\n",
       "      <th>arrival_date_year</th>\n",
       "      <th>arrival_date_month</th>\n",
       "      <th>arrival_date_week_number</th>\n",
       "      <th>arrival_date_day_of_month</th>\n",
       "      <th>stays_in_weekend_nights</th>\n",
       "      <th>stays_in_week_nights</th>\n",
       "      <th>adults</th>\n",
       "      <th>...</th>\n",
       "      <th>deposit_type</th>\n",
       "      <th>agent</th>\n",
       "      <th>company</th>\n",
       "      <th>days_in_waiting_list</th>\n",
       "      <th>customer_type</th>\n",
       "      <th>adr</th>\n",
       "      <th>required_car_parking_spaces</th>\n",
       "      <th>total_of_special_requests</th>\n",
       "      <th>reservation_status</th>\n",
       "      <th>reservation_status_date</th>\n",
       "    </tr>\n",
       "  </thead>\n",
       "  <tbody>\n",
       "    <tr>\n",
       "      <th>36491</th>\n",
       "      <td>Resort Hotel</td>\n",
       "      <td>0</td>\n",
       "      <td>112</td>\n",
       "      <td>2017</td>\n",
       "      <td>May</td>\n",
       "      <td>20</td>\n",
       "      <td>16</td>\n",
       "      <td>2</td>\n",
       "      <td>5</td>\n",
       "      <td>2</td>\n",
       "      <td>...</td>\n",
       "      <td>No Deposit</td>\n",
       "      <td>436.0</td>\n",
       "      <td>NaN</td>\n",
       "      <td>0</td>\n",
       "      <td>Transient</td>\n",
       "      <td>43.20</td>\n",
       "      <td>0</td>\n",
       "      <td>0</td>\n",
       "      <td>Check-Out</td>\n",
       "      <td>2017-05-23</td>\n",
       "    </tr>\n",
       "    <tr>\n",
       "      <th>95826</th>\n",
       "      <td>City Hotel</td>\n",
       "      <td>0</td>\n",
       "      <td>34</td>\n",
       "      <td>2016</td>\n",
       "      <td>August</td>\n",
       "      <td>34</td>\n",
       "      <td>16</td>\n",
       "      <td>2</td>\n",
       "      <td>7</td>\n",
       "      <td>3</td>\n",
       "      <td>...</td>\n",
       "      <td>No Deposit</td>\n",
       "      <td>9.0</td>\n",
       "      <td>NaN</td>\n",
       "      <td>0</td>\n",
       "      <td>Transient</td>\n",
       "      <td>168.30</td>\n",
       "      <td>0</td>\n",
       "      <td>1</td>\n",
       "      <td>Check-Out</td>\n",
       "      <td>2016-08-25</td>\n",
       "    </tr>\n",
       "    <tr>\n",
       "      <th>109804</th>\n",
       "      <td>City Hotel</td>\n",
       "      <td>0</td>\n",
       "      <td>34</td>\n",
       "      <td>2017</td>\n",
       "      <td>April</td>\n",
       "      <td>15</td>\n",
       "      <td>15</td>\n",
       "      <td>1</td>\n",
       "      <td>1</td>\n",
       "      <td>2</td>\n",
       "      <td>...</td>\n",
       "      <td>No Deposit</td>\n",
       "      <td>9.0</td>\n",
       "      <td>NaN</td>\n",
       "      <td>0</td>\n",
       "      <td>Transient</td>\n",
       "      <td>120.00</td>\n",
       "      <td>0</td>\n",
       "      <td>1</td>\n",
       "      <td>Check-Out</td>\n",
       "      <td>2017-04-17</td>\n",
       "    </tr>\n",
       "    <tr>\n",
       "      <th>10299</th>\n",
       "      <td>Resort Hotel</td>\n",
       "      <td>1</td>\n",
       "      <td>19</td>\n",
       "      <td>2017</td>\n",
       "      <td>February</td>\n",
       "      <td>8</td>\n",
       "      <td>25</td>\n",
       "      <td>1</td>\n",
       "      <td>1</td>\n",
       "      <td>2</td>\n",
       "      <td>...</td>\n",
       "      <td>No Deposit</td>\n",
       "      <td>240.0</td>\n",
       "      <td>NaN</td>\n",
       "      <td>0</td>\n",
       "      <td>Transient</td>\n",
       "      <td>62.00</td>\n",
       "      <td>0</td>\n",
       "      <td>3</td>\n",
       "      <td>Canceled</td>\n",
       "      <td>2017-02-12</td>\n",
       "    </tr>\n",
       "    <tr>\n",
       "      <th>91193</th>\n",
       "      <td>City Hotel</td>\n",
       "      <td>0</td>\n",
       "      <td>2</td>\n",
       "      <td>2016</td>\n",
       "      <td>June</td>\n",
       "      <td>25</td>\n",
       "      <td>16</td>\n",
       "      <td>0</td>\n",
       "      <td>2</td>\n",
       "      <td>2</td>\n",
       "      <td>...</td>\n",
       "      <td>No Deposit</td>\n",
       "      <td>9.0</td>\n",
       "      <td>NaN</td>\n",
       "      <td>0</td>\n",
       "      <td>Transient</td>\n",
       "      <td>129.00</td>\n",
       "      <td>0</td>\n",
       "      <td>1</td>\n",
       "      <td>Check-Out</td>\n",
       "      <td>2016-06-18</td>\n",
       "    </tr>\n",
       "    <tr>\n",
       "      <th>90599</th>\n",
       "      <td>City Hotel</td>\n",
       "      <td>0</td>\n",
       "      <td>118</td>\n",
       "      <td>2016</td>\n",
       "      <td>June</td>\n",
       "      <td>24</td>\n",
       "      <td>6</td>\n",
       "      <td>1</td>\n",
       "      <td>2</td>\n",
       "      <td>1</td>\n",
       "      <td>...</td>\n",
       "      <td>No Deposit</td>\n",
       "      <td>191.0</td>\n",
       "      <td>NaN</td>\n",
       "      <td>0</td>\n",
       "      <td>Transient-Party</td>\n",
       "      <td>110.00</td>\n",
       "      <td>0</td>\n",
       "      <td>0</td>\n",
       "      <td>Check-Out</td>\n",
       "      <td>2016-06-09</td>\n",
       "    </tr>\n",
       "    <tr>\n",
       "      <th>37166</th>\n",
       "      <td>Resort Hotel</td>\n",
       "      <td>0</td>\n",
       "      <td>295</td>\n",
       "      <td>2017</td>\n",
       "      <td>May</td>\n",
       "      <td>22</td>\n",
       "      <td>30</td>\n",
       "      <td>2</td>\n",
       "      <td>8</td>\n",
       "      <td>2</td>\n",
       "      <td>...</td>\n",
       "      <td>No Deposit</td>\n",
       "      <td>240.0</td>\n",
       "      <td>NaN</td>\n",
       "      <td>0</td>\n",
       "      <td>Transient</td>\n",
       "      <td>82.10</td>\n",
       "      <td>0</td>\n",
       "      <td>2</td>\n",
       "      <td>Check-Out</td>\n",
       "      <td>2017-06-09</td>\n",
       "    </tr>\n",
       "    <tr>\n",
       "      <th>17425</th>\n",
       "      <td>Resort Hotel</td>\n",
       "      <td>0</td>\n",
       "      <td>11</td>\n",
       "      <td>2015</td>\n",
       "      <td>October</td>\n",
       "      <td>41</td>\n",
       "      <td>10</td>\n",
       "      <td>0</td>\n",
       "      <td>1</td>\n",
       "      <td>2</td>\n",
       "      <td>...</td>\n",
       "      <td>No Deposit</td>\n",
       "      <td>281.0</td>\n",
       "      <td>NaN</td>\n",
       "      <td>0</td>\n",
       "      <td>Contract</td>\n",
       "      <td>45.00</td>\n",
       "      <td>0</td>\n",
       "      <td>0</td>\n",
       "      <td>Check-Out</td>\n",
       "      <td>2015-10-11</td>\n",
       "    </tr>\n",
       "    <tr>\n",
       "      <th>102663</th>\n",
       "      <td>City Hotel</td>\n",
       "      <td>0</td>\n",
       "      <td>232</td>\n",
       "      <td>2016</td>\n",
       "      <td>December</td>\n",
       "      <td>49</td>\n",
       "      <td>1</td>\n",
       "      <td>0</td>\n",
       "      <td>3</td>\n",
       "      <td>2</td>\n",
       "      <td>...</td>\n",
       "      <td>No Deposit</td>\n",
       "      <td>9.0</td>\n",
       "      <td>NaN</td>\n",
       "      <td>0</td>\n",
       "      <td>Transient</td>\n",
       "      <td>91.80</td>\n",
       "      <td>0</td>\n",
       "      <td>2</td>\n",
       "      <td>Check-Out</td>\n",
       "      <td>2016-12-04</td>\n",
       "    </tr>\n",
       "    <tr>\n",
       "      <th>53813</th>\n",
       "      <td>City Hotel</td>\n",
       "      <td>1</td>\n",
       "      <td>358</td>\n",
       "      <td>2016</td>\n",
       "      <td>June</td>\n",
       "      <td>27</td>\n",
       "      <td>30</td>\n",
       "      <td>0</td>\n",
       "      <td>2</td>\n",
       "      <td>2</td>\n",
       "      <td>...</td>\n",
       "      <td>Non Refund</td>\n",
       "      <td>1.0</td>\n",
       "      <td>NaN</td>\n",
       "      <td>0</td>\n",
       "      <td>Transient</td>\n",
       "      <td>62.00</td>\n",
       "      <td>0</td>\n",
       "      <td>0</td>\n",
       "      <td>Canceled</td>\n",
       "      <td>2015-10-21</td>\n",
       "    </tr>\n",
       "    <tr>\n",
       "      <th>25984</th>\n",
       "      <td>Resort Hotel</td>\n",
       "      <td>0</td>\n",
       "      <td>12</td>\n",
       "      <td>2016</td>\n",
       "      <td>July</td>\n",
       "      <td>29</td>\n",
       "      <td>11</td>\n",
       "      <td>2</td>\n",
       "      <td>5</td>\n",
       "      <td>3</td>\n",
       "      <td>...</td>\n",
       "      <td>No Deposit</td>\n",
       "      <td>242.0</td>\n",
       "      <td>NaN</td>\n",
       "      <td>0</td>\n",
       "      <td>Transient</td>\n",
       "      <td>240.86</td>\n",
       "      <td>0</td>\n",
       "      <td>1</td>\n",
       "      <td>Check-Out</td>\n",
       "      <td>2016-07-18</td>\n",
       "    </tr>\n",
       "    <tr>\n",
       "      <th>57058</th>\n",
       "      <td>City Hotel</td>\n",
       "      <td>1</td>\n",
       "      <td>29</td>\n",
       "      <td>2016</td>\n",
       "      <td>September</td>\n",
       "      <td>38</td>\n",
       "      <td>17</td>\n",
       "      <td>1</td>\n",
       "      <td>1</td>\n",
       "      <td>2</td>\n",
       "      <td>...</td>\n",
       "      <td>No Deposit</td>\n",
       "      <td>138.0</td>\n",
       "      <td>NaN</td>\n",
       "      <td>0</td>\n",
       "      <td>Transient</td>\n",
       "      <td>85.00</td>\n",
       "      <td>0</td>\n",
       "      <td>0</td>\n",
       "      <td>Canceled</td>\n",
       "      <td>2016-08-19</td>\n",
       "    </tr>\n",
       "    <tr>\n",
       "      <th>49377</th>\n",
       "      <td>City Hotel</td>\n",
       "      <td>1</td>\n",
       "      <td>47</td>\n",
       "      <td>2016</td>\n",
       "      <td>April</td>\n",
       "      <td>16</td>\n",
       "      <td>12</td>\n",
       "      <td>0</td>\n",
       "      <td>1</td>\n",
       "      <td>1</td>\n",
       "      <td>...</td>\n",
       "      <td>No Deposit</td>\n",
       "      <td>9.0</td>\n",
       "      <td>NaN</td>\n",
       "      <td>0</td>\n",
       "      <td>Transient</td>\n",
       "      <td>99.90</td>\n",
       "      <td>0</td>\n",
       "      <td>0</td>\n",
       "      <td>Canceled</td>\n",
       "      <td>2016-03-21</td>\n",
       "    </tr>\n",
       "    <tr>\n",
       "      <th>24812</th>\n",
       "      <td>Resort Hotel</td>\n",
       "      <td>0</td>\n",
       "      <td>63</td>\n",
       "      <td>2016</td>\n",
       "      <td>May</td>\n",
       "      <td>23</td>\n",
       "      <td>30</td>\n",
       "      <td>1</td>\n",
       "      <td>4</td>\n",
       "      <td>2</td>\n",
       "      <td>...</td>\n",
       "      <td>No Deposit</td>\n",
       "      <td>240.0</td>\n",
       "      <td>NaN</td>\n",
       "      <td>0</td>\n",
       "      <td>Transient</td>\n",
       "      <td>215.60</td>\n",
       "      <td>1</td>\n",
       "      <td>1</td>\n",
       "      <td>Check-Out</td>\n",
       "      <td>2016-06-04</td>\n",
       "    </tr>\n",
       "    <tr>\n",
       "      <th>4839</th>\n",
       "      <td>Resort Hotel</td>\n",
       "      <td>0</td>\n",
       "      <td>171</td>\n",
       "      <td>2016</td>\n",
       "      <td>April</td>\n",
       "      <td>15</td>\n",
       "      <td>4</td>\n",
       "      <td>1</td>\n",
       "      <td>1</td>\n",
       "      <td>1</td>\n",
       "      <td>...</td>\n",
       "      <td>Non Refund</td>\n",
       "      <td>298.0</td>\n",
       "      <td>NaN</td>\n",
       "      <td>0</td>\n",
       "      <td>Transient-Party</td>\n",
       "      <td>54.50</td>\n",
       "      <td>0</td>\n",
       "      <td>0</td>\n",
       "      <td>Check-Out</td>\n",
       "      <td>2016-04-06</td>\n",
       "    </tr>\n",
       "  </tbody>\n",
       "</table>\n",
       "<p>15 rows × 32 columns</p>\n",
       "</div>"
      ],
      "text/plain": [
       "               hotel  is_canceled  lead_time  arrival_date_year  \\\n",
       "36491   Resort Hotel            0        112               2017   \n",
       "95826     City Hotel            0         34               2016   \n",
       "109804    City Hotel            0         34               2017   \n",
       "10299   Resort Hotel            1         19               2017   \n",
       "91193     City Hotel            0          2               2016   \n",
       "90599     City Hotel            0        118               2016   \n",
       "37166   Resort Hotel            0        295               2017   \n",
       "17425   Resort Hotel            0         11               2015   \n",
       "102663    City Hotel            0        232               2016   \n",
       "53813     City Hotel            1        358               2016   \n",
       "25984   Resort Hotel            0         12               2016   \n",
       "57058     City Hotel            1         29               2016   \n",
       "49377     City Hotel            1         47               2016   \n",
       "24812   Resort Hotel            0         63               2016   \n",
       "4839    Resort Hotel            0        171               2016   \n",
       "\n",
       "       arrival_date_month  arrival_date_week_number  \\\n",
       "36491                 May                        20   \n",
       "95826              August                        34   \n",
       "109804              April                        15   \n",
       "10299            February                         8   \n",
       "91193                June                        25   \n",
       "90599                June                        24   \n",
       "37166                 May                        22   \n",
       "17425             October                        41   \n",
       "102663           December                        49   \n",
       "53813                June                        27   \n",
       "25984                July                        29   \n",
       "57058           September                        38   \n",
       "49377               April                        16   \n",
       "24812                 May                        23   \n",
       "4839                April                        15   \n",
       "\n",
       "        arrival_date_day_of_month  stays_in_weekend_nights  \\\n",
       "36491                          16                        2   \n",
       "95826                          16                        2   \n",
       "109804                         15                        1   \n",
       "10299                          25                        1   \n",
       "91193                          16                        0   \n",
       "90599                           6                        1   \n",
       "37166                          30                        2   \n",
       "17425                          10                        0   \n",
       "102663                          1                        0   \n",
       "53813                          30                        0   \n",
       "25984                          11                        2   \n",
       "57058                          17                        1   \n",
       "49377                          12                        0   \n",
       "24812                          30                        1   \n",
       "4839                            4                        1   \n",
       "\n",
       "        stays_in_week_nights  adults  ...  deposit_type  agent company  \\\n",
       "36491                      5       2  ...    No Deposit  436.0     NaN   \n",
       "95826                      7       3  ...    No Deposit    9.0     NaN   \n",
       "109804                     1       2  ...    No Deposit    9.0     NaN   \n",
       "10299                      1       2  ...    No Deposit  240.0     NaN   \n",
       "91193                      2       2  ...    No Deposit    9.0     NaN   \n",
       "90599                      2       1  ...    No Deposit  191.0     NaN   \n",
       "37166                      8       2  ...    No Deposit  240.0     NaN   \n",
       "17425                      1       2  ...    No Deposit  281.0     NaN   \n",
       "102663                     3       2  ...    No Deposit    9.0     NaN   \n",
       "53813                      2       2  ...    Non Refund    1.0     NaN   \n",
       "25984                      5       3  ...    No Deposit  242.0     NaN   \n",
       "57058                      1       2  ...    No Deposit  138.0     NaN   \n",
       "49377                      1       1  ...    No Deposit    9.0     NaN   \n",
       "24812                      4       2  ...    No Deposit  240.0     NaN   \n",
       "4839                       1       1  ...    Non Refund  298.0     NaN   \n",
       "\n",
       "       days_in_waiting_list    customer_type     adr  \\\n",
       "36491                     0        Transient   43.20   \n",
       "95826                     0        Transient  168.30   \n",
       "109804                    0        Transient  120.00   \n",
       "10299                     0        Transient   62.00   \n",
       "91193                     0        Transient  129.00   \n",
       "90599                     0  Transient-Party  110.00   \n",
       "37166                     0        Transient   82.10   \n",
       "17425                     0         Contract   45.00   \n",
       "102663                    0        Transient   91.80   \n",
       "53813                     0        Transient   62.00   \n",
       "25984                     0        Transient  240.86   \n",
       "57058                     0        Transient   85.00   \n",
       "49377                     0        Transient   99.90   \n",
       "24812                     0        Transient  215.60   \n",
       "4839                      0  Transient-Party   54.50   \n",
       "\n",
       "        required_car_parking_spaces  total_of_special_requests  \\\n",
       "36491                             0                          0   \n",
       "95826                             0                          1   \n",
       "109804                            0                          1   \n",
       "10299                             0                          3   \n",
       "91193                             0                          1   \n",
       "90599                             0                          0   \n",
       "37166                             0                          2   \n",
       "17425                             0                          0   \n",
       "102663                            0                          2   \n",
       "53813                             0                          0   \n",
       "25984                             0                          1   \n",
       "57058                             0                          0   \n",
       "49377                             0                          0   \n",
       "24812                             1                          1   \n",
       "4839                              0                          0   \n",
       "\n",
       "        reservation_status reservation_status_date  \n",
       "36491            Check-Out              2017-05-23  \n",
       "95826            Check-Out              2016-08-25  \n",
       "109804           Check-Out              2017-04-17  \n",
       "10299             Canceled              2017-02-12  \n",
       "91193            Check-Out              2016-06-18  \n",
       "90599            Check-Out              2016-06-09  \n",
       "37166            Check-Out              2017-06-09  \n",
       "17425            Check-Out              2015-10-11  \n",
       "102663           Check-Out              2016-12-04  \n",
       "53813             Canceled              2015-10-21  \n",
       "25984            Check-Out              2016-07-18  \n",
       "57058             Canceled              2016-08-19  \n",
       "49377             Canceled              2016-03-21  \n",
       "24812            Check-Out              2016-06-04  \n",
       "4839             Check-Out              2016-04-06  \n",
       "\n",
       "[15 rows x 32 columns]"
      ]
     },
     "execution_count": 146,
     "metadata": {},
     "output_type": "execute_result"
    }
   ],
   "source": [
    "hb.sample(15)\n",
    "#This is a sample of the dataset for the viewer's understanding"
   ]
  },
  {
   "cell_type": "code",
   "execution_count": 147,
   "id": "def5b023",
   "metadata": {},
   "outputs": [
    {
     "name": "stdout",
     "output_type": "stream",
     "text": [
      "<class 'pandas.core.frame.DataFrame'>\n",
      "RangeIndex: 119390 entries, 0 to 119389\n",
      "Data columns (total 32 columns):\n",
      " #   Column                          Non-Null Count   Dtype  \n",
      "---  ------                          --------------   -----  \n",
      " 0   hotel                           119390 non-null  object \n",
      " 1   is_canceled                     119390 non-null  int64  \n",
      " 2   lead_time                       119390 non-null  int64  \n",
      " 3   arrival_date_year               119390 non-null  int64  \n",
      " 4   arrival_date_month              119390 non-null  object \n",
      " 5   arrival_date_week_number        119390 non-null  int64  \n",
      " 6   arrival_date_day_of_month       119390 non-null  int64  \n",
      " 7   stays_in_weekend_nights         119390 non-null  int64  \n",
      " 8   stays_in_week_nights            119390 non-null  int64  \n",
      " 9   adults                          119390 non-null  int64  \n",
      " 10  children                        119386 non-null  float64\n",
      " 11  babies                          119390 non-null  int64  \n",
      " 12  meal                            119390 non-null  object \n",
      " 13  country                         118902 non-null  object \n",
      " 14  market_segment                  119390 non-null  object \n",
      " 15  distribution_channel            119390 non-null  object \n",
      " 16  is_repeated_guest               119390 non-null  int64  \n",
      " 17  previous_cancellations          119390 non-null  int64  \n",
      " 18  previous_bookings_not_canceled  119390 non-null  int64  \n",
      " 19  reserved_room_type              119390 non-null  object \n",
      " 20  assigned_room_type              119390 non-null  object \n",
      " 21  booking_changes                 119390 non-null  int64  \n",
      " 22  deposit_type                    119390 non-null  object \n",
      " 23  agent                           103050 non-null  float64\n",
      " 24  company                         6797 non-null    float64\n",
      " 25  days_in_waiting_list            119390 non-null  int64  \n",
      " 26  customer_type                   119390 non-null  object \n",
      " 27  adr                             119390 non-null  float64\n",
      " 28  required_car_parking_spaces     119390 non-null  int64  \n",
      " 29  total_of_special_requests       119390 non-null  int64  \n",
      " 30  reservation_status              119390 non-null  object \n",
      " 31  reservation_status_date         119390 non-null  object \n",
      "dtypes: float64(4), int64(16), object(12)\n",
      "memory usage: 29.1+ MB\n"
     ]
    },
    {
     "data": {
      "text/plain": [
       "Index(['hotel', 'is_canceled', 'lead_time', 'arrival_date_year',\n",
       "       'arrival_date_month', 'arrival_date_week_number',\n",
       "       'arrival_date_day_of_month', 'stays_in_weekend_nights',\n",
       "       'stays_in_week_nights', 'adults', 'children', 'babies', 'meal',\n",
       "       'country', 'market_segment', 'distribution_channel',\n",
       "       'is_repeated_guest', 'previous_cancellations',\n",
       "       'previous_bookings_not_canceled', 'reserved_room_type',\n",
       "       'assigned_room_type', 'booking_changes', 'deposit_type', 'agent',\n",
       "       'company', 'days_in_waiting_list', 'customer_type', 'adr',\n",
       "       'required_car_parking_spaces', 'total_of_special_requests',\n",
       "       'reservation_status', 'reservation_status_date'],\n",
       "      dtype='object')"
      ]
     },
     "execution_count": 147,
     "metadata": {},
     "output_type": "execute_result"
    }
   ],
   "source": [
    "#Basic information about the data\n",
    "hb.info()\n",
    "hb.columns\n",
    "#Any one of the above command is usefull"
   ]
  },
  {
   "cell_type": "code",
   "execution_count": 148,
   "id": "3e3491a8",
   "metadata": {},
   "outputs": [
    {
     "data": {
      "text/plain": [
       "Index(['hotel', 'is_canceled', 'lead_time', 'arrival_date_year',\n",
       "       'arrival_date_month', 'arrival_date_week_number',\n",
       "       'arrival_date_day_of_month', 'stays_in_weekend_nights',\n",
       "       'stays_in_week_nights', 'adults', 'children', 'babies', 'meal',\n",
       "       'country', 'market_segment', 'distribution_channel',\n",
       "       'is_repeated_guest', 'previous_cancellations',\n",
       "       'previous_bookings_not_canceled', 'reserved_room_type',\n",
       "       'assigned_room_type', 'booking_changes', 'deposit_type', 'agent',\n",
       "       'company', 'days_in_waiting_list', 'customer_type', 'avg_daily_rate',\n",
       "       'required_car_parking_spaces', 'total_of_special_requests',\n",
       "       'reservation_status', 'reservation_status_date'],\n",
       "      dtype='object')"
      ]
     },
     "execution_count": 148,
     "metadata": {},
     "output_type": "execute_result"
    }
   ],
   "source": [
    "\"\"\"This is the part where the dataset is preprocessed that is eliminating errors,negative values,redundancy and null values.\n",
    "We can also change the colomn names to our understanding\"\"\"\n",
    "hb.rename(columns={'adr':'avg_daily_rate'},inplace=True)\n",
    "hb.columns"
   ]
  },
  {
   "cell_type": "code",
   "execution_count": 149,
   "id": "5194030e",
   "metadata": {},
   "outputs": [
    {
     "data": {
      "text/plain": [
       "(119390, 31)"
      ]
     },
     "execution_count": 149,
     "metadata": {},
     "output_type": "execute_result"
    }
   ],
   "source": [
    "#The company column is not required in this analysis and most of the data is missing from the column\n",
    "hb.drop('company',axis='columns',inplace=True)\n",
    "#To check whether the column is dropped\n",
    "hb.shape"
   ]
  },
  {
   "cell_type": "code",
   "execution_count": 150,
   "id": "87a0e78f",
   "metadata": {},
   "outputs": [
    {
     "data": {
      "text/plain": [
       "hotel                                 0\n",
       "is_canceled                           0\n",
       "lead_time                             0\n",
       "arrival_date_year                     0\n",
       "arrival_date_month                    0\n",
       "arrival_date_week_number              0\n",
       "arrival_date_day_of_month             0\n",
       "stays_in_weekend_nights               0\n",
       "stays_in_week_nights                  0\n",
       "adults                                0\n",
       "children                              4\n",
       "babies                                0\n",
       "meal                                  0\n",
       "country                             488\n",
       "market_segment                        0\n",
       "distribution_channel                  0\n",
       "is_repeated_guest                     0\n",
       "previous_cancellations                0\n",
       "previous_bookings_not_canceled        0\n",
       "reserved_room_type                    0\n",
       "assigned_room_type                    0\n",
       "booking_changes                       0\n",
       "deposit_type                          0\n",
       "agent                             16340\n",
       "days_in_waiting_list                  0\n",
       "customer_type                         0\n",
       "avg_daily_rate                        0\n",
       "required_car_parking_spaces           0\n",
       "total_of_special_requests             0\n",
       "reservation_status                    0\n",
       "reservation_status_date               0\n",
       "dtype: int64"
      ]
     },
     "execution_count": 150,
     "metadata": {},
     "output_type": "execute_result"
    }
   ],
   "source": [
    "#To check the no. of null values in each column\n",
    "hb.isna().sum()"
   ]
  },
  {
   "cell_type": "code",
   "execution_count": 151,
   "id": "704cd1c6",
   "metadata": {},
   "outputs": [
    {
     "data": {
      "text/plain": [
       "hotel                             0\n",
       "is_canceled                       0\n",
       "lead_time                         0\n",
       "arrival_date_year                 0\n",
       "arrival_date_month                0\n",
       "arrival_date_week_number          0\n",
       "arrival_date_day_of_month         0\n",
       "stays_in_weekend_nights           0\n",
       "stays_in_week_nights              0\n",
       "adults                            0\n",
       "children                          0\n",
       "babies                            0\n",
       "meal                              0\n",
       "country                           0\n",
       "market_segment                    0\n",
       "distribution_channel              0\n",
       "is_repeated_guest                 0\n",
       "previous_cancellations            0\n",
       "previous_bookings_not_canceled    0\n",
       "reserved_room_type                0\n",
       "assigned_room_type                0\n",
       "booking_changes                   0\n",
       "deposit_type                      0\n",
       "agent                             0\n",
       "days_in_waiting_list              0\n",
       "customer_type                     0\n",
       "avg_daily_rate                    0\n",
       "required_car_parking_spaces       0\n",
       "total_of_special_requests         0\n",
       "reservation_status                0\n",
       "reservation_status_date           0\n",
       "dtype: int64"
      ]
     },
     "execution_count": 151,
     "metadata": {},
     "output_type": "execute_result"
    }
   ],
   "source": [
    "#To eliminate all the null values\n",
    "hb.dropna(inplace=True)\n",
    "#To check if there is any more null values\n",
    "hb.isna().sum()"
   ]
  },
  {
   "cell_type": "code",
   "execution_count": 152,
   "id": "705d2723",
   "metadata": {},
   "outputs": [
    {
     "data": {
      "text/plain": [
       "27823"
      ]
     },
     "execution_count": 152,
     "metadata": {},
     "output_type": "execute_result"
    }
   ],
   "source": [
    "#To find out the redundancy in the dataset\n",
    "hb.duplicated().sum()"
   ]
  },
  {
   "cell_type": "code",
   "execution_count": 153,
   "id": "818092ec",
   "metadata": {},
   "outputs": [
    {
     "data": {
      "text/plain": [
       "0"
      ]
     },
     "execution_count": 153,
     "metadata": {},
     "output_type": "execute_result"
    }
   ],
   "source": [
    "#Removing redundancy\n",
    "hb=hb.drop_duplicates()\n",
    "#Check redundancy again\n",
    "hb.duplicated().sum()"
   ]
  },
  {
   "cell_type": "code",
   "execution_count": 154,
   "id": "fe276ac5",
   "metadata": {},
   "outputs": [
    {
     "data": {
      "text/html": [
       "<div>\n",
       "<style scoped>\n",
       "    .dataframe tbody tr th:only-of-type {\n",
       "        vertical-align: middle;\n",
       "    }\n",
       "\n",
       "    .dataframe tbody tr th {\n",
       "        vertical-align: top;\n",
       "    }\n",
       "\n",
       "    .dataframe thead th {\n",
       "        text-align: right;\n",
       "    }\n",
       "</style>\n",
       "<table border=\"1\" class=\"dataframe\">\n",
       "  <thead>\n",
       "    <tr style=\"text-align: right;\">\n",
       "      <th></th>\n",
       "      <th>is_canceled</th>\n",
       "      <th>lead_time</th>\n",
       "      <th>arrival_date_year</th>\n",
       "      <th>arrival_date_week_number</th>\n",
       "      <th>arrival_date_day_of_month</th>\n",
       "      <th>stays_in_weekend_nights</th>\n",
       "      <th>stays_in_week_nights</th>\n",
       "      <th>adults</th>\n",
       "      <th>children</th>\n",
       "      <th>babies</th>\n",
       "      <th>is_repeated_guest</th>\n",
       "      <th>previous_cancellations</th>\n",
       "      <th>previous_bookings_not_canceled</th>\n",
       "      <th>booking_changes</th>\n",
       "      <th>agent</th>\n",
       "      <th>days_in_waiting_list</th>\n",
       "      <th>avg_daily_rate</th>\n",
       "      <th>required_car_parking_spaces</th>\n",
       "      <th>total_of_special_requests</th>\n",
       "    </tr>\n",
       "  </thead>\n",
       "  <tbody>\n",
       "    <tr>\n",
       "      <th>count</th>\n",
       "      <td>75071.000000</td>\n",
       "      <td>75071.000000</td>\n",
       "      <td>75071.000000</td>\n",
       "      <td>75071.000000</td>\n",
       "      <td>75071.000000</td>\n",
       "      <td>75071.000000</td>\n",
       "      <td>75071.000000</td>\n",
       "      <td>75071.000000</td>\n",
       "      <td>75071.000000</td>\n",
       "      <td>75071.000000</td>\n",
       "      <td>75071.000000</td>\n",
       "      <td>75071.000000</td>\n",
       "      <td>75071.000000</td>\n",
       "      <td>75071.000000</td>\n",
       "      <td>75071.000000</td>\n",
       "      <td>75071.000000</td>\n",
       "      <td>75071.000000</td>\n",
       "      <td>75071.000000</td>\n",
       "      <td>75071.000000</td>\n",
       "    </tr>\n",
       "    <tr>\n",
       "      <th>mean</th>\n",
       "      <td>0.299210</td>\n",
       "      <td>86.921981</td>\n",
       "      <td>2016.225520</td>\n",
       "      <td>26.919716</td>\n",
       "      <td>15.797818</td>\n",
       "      <td>1.070253</td>\n",
       "      <td>2.751036</td>\n",
       "      <td>1.924591</td>\n",
       "      <td>0.148899</td>\n",
       "      <td>0.010510</td>\n",
       "      <td>0.014626</td>\n",
       "      <td>0.019688</td>\n",
       "      <td>0.032889</td>\n",
       "      <td>0.248218</td>\n",
       "      <td>93.932784</td>\n",
       "      <td>0.810273</td>\n",
       "      <td>110.199214</td>\n",
       "      <td>0.072145</td>\n",
       "      <td>0.739420</td>\n",
       "    </tr>\n",
       "    <tr>\n",
       "      <th>std</th>\n",
       "      <td>0.457915</td>\n",
       "      <td>85.956707</td>\n",
       "      <td>0.682752</td>\n",
       "      <td>13.363077</td>\n",
       "      <td>8.845078</td>\n",
       "      <td>1.032607</td>\n",
       "      <td>2.042798</td>\n",
       "      <td>0.519041</td>\n",
       "      <td>0.471509</td>\n",
       "      <td>0.113361</td>\n",
       "      <td>0.120052</td>\n",
       "      <td>0.316184</td>\n",
       "      <td>0.509008</td>\n",
       "      <td>0.698098</td>\n",
       "      <td>113.111819</td>\n",
       "      <td>10.573899</td>\n",
       "      <td>54.386522</td>\n",
       "      <td>0.260218</td>\n",
       "      <td>0.832634</td>\n",
       "    </tr>\n",
       "    <tr>\n",
       "      <th>min</th>\n",
       "      <td>0.000000</td>\n",
       "      <td>0.000000</td>\n",
       "      <td>2015.000000</td>\n",
       "      <td>1.000000</td>\n",
       "      <td>1.000000</td>\n",
       "      <td>0.000000</td>\n",
       "      <td>0.000000</td>\n",
       "      <td>0.000000</td>\n",
       "      <td>0.000000</td>\n",
       "      <td>0.000000</td>\n",
       "      <td>0.000000</td>\n",
       "      <td>0.000000</td>\n",
       "      <td>0.000000</td>\n",
       "      <td>0.000000</td>\n",
       "      <td>1.000000</td>\n",
       "      <td>0.000000</td>\n",
       "      <td>-6.380000</td>\n",
       "      <td>0.000000</td>\n",
       "      <td>0.000000</td>\n",
       "    </tr>\n",
       "    <tr>\n",
       "      <th>25%</th>\n",
       "      <td>0.000000</td>\n",
       "      <td>18.000000</td>\n",
       "      <td>2016.000000</td>\n",
       "      <td>16.000000</td>\n",
       "      <td>8.000000</td>\n",
       "      <td>0.000000</td>\n",
       "      <td>1.000000</td>\n",
       "      <td>2.000000</td>\n",
       "      <td>0.000000</td>\n",
       "      <td>0.000000</td>\n",
       "      <td>0.000000</td>\n",
       "      <td>0.000000</td>\n",
       "      <td>0.000000</td>\n",
       "      <td>0.000000</td>\n",
       "      <td>9.000000</td>\n",
       "      <td>0.000000</td>\n",
       "      <td>76.000000</td>\n",
       "      <td>0.000000</td>\n",
       "      <td>0.000000</td>\n",
       "    </tr>\n",
       "    <tr>\n",
       "      <th>50%</th>\n",
       "      <td>0.000000</td>\n",
       "      <td>59.000000</td>\n",
       "      <td>2016.000000</td>\n",
       "      <td>28.000000</td>\n",
       "      <td>16.000000</td>\n",
       "      <td>1.000000</td>\n",
       "      <td>2.000000</td>\n",
       "      <td>2.000000</td>\n",
       "      <td>0.000000</td>\n",
       "      <td>0.000000</td>\n",
       "      <td>0.000000</td>\n",
       "      <td>0.000000</td>\n",
       "      <td>0.000000</td>\n",
       "      <td>0.000000</td>\n",
       "      <td>14.000000</td>\n",
       "      <td>0.000000</td>\n",
       "      <td>101.600000</td>\n",
       "      <td>0.000000</td>\n",
       "      <td>1.000000</td>\n",
       "    </tr>\n",
       "    <tr>\n",
       "      <th>75%</th>\n",
       "      <td>1.000000</td>\n",
       "      <td>134.000000</td>\n",
       "      <td>2017.000000</td>\n",
       "      <td>37.000000</td>\n",
       "      <td>24.000000</td>\n",
       "      <td>2.000000</td>\n",
       "      <td>4.000000</td>\n",
       "      <td>2.000000</td>\n",
       "      <td>0.000000</td>\n",
       "      <td>0.000000</td>\n",
       "      <td>0.000000</td>\n",
       "      <td>0.000000</td>\n",
       "      <td>0.000000</td>\n",
       "      <td>0.000000</td>\n",
       "      <td>240.000000</td>\n",
       "      <td>0.000000</td>\n",
       "      <td>136.810000</td>\n",
       "      <td>0.000000</td>\n",
       "      <td>1.000000</td>\n",
       "    </tr>\n",
       "    <tr>\n",
       "      <th>max</th>\n",
       "      <td>1.000000</td>\n",
       "      <td>629.000000</td>\n",
       "      <td>2017.000000</td>\n",
       "      <td>53.000000</td>\n",
       "      <td>31.000000</td>\n",
       "      <td>16.000000</td>\n",
       "      <td>41.000000</td>\n",
       "      <td>26.000000</td>\n",
       "      <td>10.000000</td>\n",
       "      <td>10.000000</td>\n",
       "      <td>1.000000</td>\n",
       "      <td>26.000000</td>\n",
       "      <td>50.000000</td>\n",
       "      <td>18.000000</td>\n",
       "      <td>535.000000</td>\n",
       "      <td>391.000000</td>\n",
       "      <td>5400.000000</td>\n",
       "      <td>3.000000</td>\n",
       "      <td>5.000000</td>\n",
       "    </tr>\n",
       "  </tbody>\n",
       "</table>\n",
       "</div>"
      ],
      "text/plain": [
       "        is_canceled     lead_time  arrival_date_year  \\\n",
       "count  75071.000000  75071.000000       75071.000000   \n",
       "mean       0.299210     86.921981        2016.225520   \n",
       "std        0.457915     85.956707           0.682752   \n",
       "min        0.000000      0.000000        2015.000000   \n",
       "25%        0.000000     18.000000        2016.000000   \n",
       "50%        0.000000     59.000000        2016.000000   \n",
       "75%        1.000000    134.000000        2017.000000   \n",
       "max        1.000000    629.000000        2017.000000   \n",
       "\n",
       "       arrival_date_week_number  arrival_date_day_of_month  \\\n",
       "count              75071.000000               75071.000000   \n",
       "mean                  26.919716                  15.797818   \n",
       "std                   13.363077                   8.845078   \n",
       "min                    1.000000                   1.000000   \n",
       "25%                   16.000000                   8.000000   \n",
       "50%                   28.000000                  16.000000   \n",
       "75%                   37.000000                  24.000000   \n",
       "max                   53.000000                  31.000000   \n",
       "\n",
       "       stays_in_weekend_nights  stays_in_week_nights        adults  \\\n",
       "count             75071.000000          75071.000000  75071.000000   \n",
       "mean                  1.070253              2.751036      1.924591   \n",
       "std                   1.032607              2.042798      0.519041   \n",
       "min                   0.000000              0.000000      0.000000   \n",
       "25%                   0.000000              1.000000      2.000000   \n",
       "50%                   1.000000              2.000000      2.000000   \n",
       "75%                   2.000000              4.000000      2.000000   \n",
       "max                  16.000000             41.000000     26.000000   \n",
       "\n",
       "           children        babies  is_repeated_guest  previous_cancellations  \\\n",
       "count  75071.000000  75071.000000       75071.000000            75071.000000   \n",
       "mean       0.148899      0.010510           0.014626                0.019688   \n",
       "std        0.471509      0.113361           0.120052                0.316184   \n",
       "min        0.000000      0.000000           0.000000                0.000000   \n",
       "25%        0.000000      0.000000           0.000000                0.000000   \n",
       "50%        0.000000      0.000000           0.000000                0.000000   \n",
       "75%        0.000000      0.000000           0.000000                0.000000   \n",
       "max       10.000000     10.000000           1.000000               26.000000   \n",
       "\n",
       "       previous_bookings_not_canceled  booking_changes         agent  \\\n",
       "count                    75071.000000     75071.000000  75071.000000   \n",
       "mean                         0.032889         0.248218     93.932784   \n",
       "std                          0.509008         0.698098    113.111819   \n",
       "min                          0.000000         0.000000      1.000000   \n",
       "25%                          0.000000         0.000000      9.000000   \n",
       "50%                          0.000000         0.000000     14.000000   \n",
       "75%                          0.000000         0.000000    240.000000   \n",
       "max                         50.000000        18.000000    535.000000   \n",
       "\n",
       "       days_in_waiting_list  avg_daily_rate  required_car_parking_spaces  \\\n",
       "count          75071.000000    75071.000000                 75071.000000   \n",
       "mean               0.810273      110.199214                     0.072145   \n",
       "std               10.573899       54.386522                     0.260218   \n",
       "min                0.000000       -6.380000                     0.000000   \n",
       "25%                0.000000       76.000000                     0.000000   \n",
       "50%                0.000000      101.600000                     0.000000   \n",
       "75%                0.000000      136.810000                     0.000000   \n",
       "max              391.000000     5400.000000                     3.000000   \n",
       "\n",
       "       total_of_special_requests  \n",
       "count               75071.000000  \n",
       "mean                    0.739420  \n",
       "std                     0.832634  \n",
       "min                     0.000000  \n",
       "25%                     0.000000  \n",
       "50%                     1.000000  \n",
       "75%                     1.000000  \n",
       "max                     5.000000  "
      ]
     },
     "execution_count": 154,
     "metadata": {},
     "output_type": "execute_result"
    }
   ],
   "source": [
    "\"\"\"To check if there is any negative value. The describe() returns some of the statistical operations like mean,percentile,\n",
    "min,amx,etc\"\"\"\n",
    "hb.describe()\n"
   ]
  },
  {
   "cell_type": "code",
   "execution_count": 155,
   "id": "1cc99a07",
   "metadata": {},
   "outputs": [
    {
     "data": {
      "text/plain": [
       "(74178, 31)"
      ]
     },
     "execution_count": 155,
     "metadata": {},
     "output_type": "execute_result"
    }
   ],
   "source": [
    "\"\"\"According to the above operations, we can see a negative value as the minimum data in the avg_daily_rate column and it\n",
    "cannot be negative\"\"\"\n",
    "hb.drop(hb[hb.avg_daily_rate<1.0].index,inplace=True)\n",
    "\"\"\"For checking the remaining values in the dataset\"\"\"\n",
    "hb.shape"
   ]
  },
  {
   "cell_type": "code",
   "execution_count": 156,
   "id": "87056c55",
   "metadata": {},
   "outputs": [
    {
     "data": {
      "text/plain": [
       "dtype('int64')"
      ]
     },
     "execution_count": 156,
     "metadata": {},
     "output_type": "execute_result"
    }
   ],
   "source": [
    "#children datatype was in float,converted to integer\n",
    "hb['children'] = hb['children'].apply(np.int64)\n",
    "hb['children'].dtypes"
   ]
  },
  {
   "cell_type": "code",
   "execution_count": 157,
   "id": "935782bb",
   "metadata": {},
   "outputs": [
    {
     "data": {
      "text/plain": [
       "Index(['hotel', 'is_canceled', 'lead_time', 'arrival_date_year',\n",
       "       'arrival_date_month', 'arrival_date_week_number',\n",
       "       'arrival_date_day_of_month', 'stays_in_weekend_nights',\n",
       "       'stays_in_week_nights', 'adults', 'children', 'babies', 'meal',\n",
       "       'country', 'market_segment', 'distribution_channel',\n",
       "       'is_repeated_guest', 'previous_cancellations',\n",
       "       'previous_bookings_not_canceled', 'reserved_room_type',\n",
       "       'assigned_room_type', 'booking_changes', 'deposit_type', 'agent',\n",
       "       'days_in_waiting_list', 'customer_type', 'avg_daily_rate',\n",
       "       'required_car_parking_spaces', 'total_of_special_requests',\n",
       "       'reservation_status', 'reservation_status_date'],\n",
       "      dtype='object')"
      ]
     },
     "execution_count": 157,
     "metadata": {},
     "output_type": "execute_result"
    }
   ],
   "source": [
    "\"\"\"With the help of data visualization functions of python we can find out the relation between different attributes or \n",
    "between different tuples.\"\"\"\n",
    "hb.columns"
   ]
  },
  {
   "cell_type": "code",
   "execution_count": 158,
   "id": "32b74c30",
   "metadata": {},
   "outputs": [
    {
     "data": {
      "text/plain": [
       "City Hotel      47327\n",
       "Resort Hotel    26851\n",
       "Name: hotel, dtype: int64"
      ]
     },
     "execution_count": 158,
     "metadata": {},
     "output_type": "execute_result"
    }
   ],
   "source": [
    "\"\"\"As you can see the no. of city hotels is more than the no. of resort hotels.It is because the demand of city hotels are \n",
    "more and they are cheap\"\"\"\n",
    "hb['hotel'].value_counts()"
   ]
  },
  {
   "cell_type": "code",
   "execution_count": 159,
   "id": "2594f7c7",
   "metadata": {},
   "outputs": [
    {
     "data": {
      "image/png": "[encoded data removed]",
      "text/plain": [
       "<Figure size 360x360 with 1 Axes>"
      ]
     },
     "metadata": {},
     "output_type": "display_data"
    }
   ],
   "source": [
    "#Let's visualize it now \n",
    "labels=hb.hotel.value_counts().index\n",
    "sizes=hb.hotel.value_counts()#These two commands are used in store the no. of values for each tuple.\n",
    "plt.figure(figsize=(5,5))#defining the grid size\n",
    "plt.pie(sizes,labels=labels,autopct='%1.1f%%',colors=['#A6CF98','#557C55'])#autopct is the format for accurate percentage \n",
    "plt.title('City hotel v Resort hotel',color = 'black', fontsize= 14);"
   ]
  },
  {
   "cell_type": "code",
   "execution_count": 160,
   "id": "8007c94a",
   "metadata": {},
   "outputs": [
    {
     "data": {
      "image/png": "[encoded data removed]",
      "text/plain": [
       "<Figure size 720x432 with 1 Axes>"
      ]
     },
     "metadata": {
      "needs_background": "light"
     },
     "output_type": "display_data"
    }
   ],
   "source": [
    "#Now let's see the comparison of the cancellation in the two types of hotels\n",
    "plt.figure(figsize=(10,6))\n",
    "sns.countplot(data=hb,x='hotel',hue='is_canceled',palette='Greens')\n",
    "plt.title(\"Hotel type which have the most cancellations\",fontsize=18)\n",
    "plt.legend(['Reserved','Canceled'],shadow=True,loc=0)\n",
    "plt.show()"
   ]
  },
  {
   "cell_type": "code",
   "execution_count": 161,
   "id": "9e35e37b",
   "metadata": {},
   "outputs": [
    {
     "data": {
      "text/html": [
       "<div>\n",
       "<style scoped>\n",
       "    .dataframe tbody tr th:only-of-type {\n",
       "        vertical-align: middle;\n",
       "    }\n",
       "\n",
       "    .dataframe tbody tr th {\n",
       "        vertical-align: top;\n",
       "    }\n",
       "\n",
       "    .dataframe thead th {\n",
       "        text-align: right;\n",
       "    }\n",
       "</style>\n",
       "<table border=\"1\" class=\"dataframe\">\n",
       "  <thead>\n",
       "    <tr style=\"text-align: right;\">\n",
       "      <th></th>\n",
       "      <th>hotel</th>\n",
       "      <th>is_canceled</th>\n",
       "      <th>rate</th>\n",
       "    </tr>\n",
       "  </thead>\n",
       "  <tbody>\n",
       "    <tr>\n",
       "      <th>0</th>\n",
       "      <td>City Hotel</td>\n",
       "      <td>0</td>\n",
       "      <td>0.679549</td>\n",
       "    </tr>\n",
       "    <tr>\n",
       "      <th>1</th>\n",
       "      <td>City Hotel</td>\n",
       "      <td>1</td>\n",
       "      <td>0.320451</td>\n",
       "    </tr>\n",
       "    <tr>\n",
       "      <th>2</th>\n",
       "      <td>Resort Hotel</td>\n",
       "      <td>0</td>\n",
       "      <td>0.731146</td>\n",
       "    </tr>\n",
       "    <tr>\n",
       "      <th>3</th>\n",
       "      <td>Resort Hotel</td>\n",
       "      <td>1</td>\n",
       "      <td>0.268854</td>\n",
       "    </tr>\n",
       "  </tbody>\n",
       "</table>\n",
       "</div>"
      ],
      "text/plain": [
       "          hotel  is_canceled      rate\n",
       "0    City Hotel            0  0.679549\n",
       "1    City Hotel            1  0.320451\n",
       "2  Resort Hotel            0  0.731146\n",
       "3  Resort Hotel            1  0.268854"
      ]
     },
     "execution_count": 161,
     "metadata": {},
     "output_type": "execute_result"
    }
   ],
   "source": [
    "#As the city hotel has more inflow of customers than resort hotels , we need the cancellation rate for each type\n",
    "c_rate = hb.groupby([\"hotel\",\"is_canceled\"]).size().reset_index(name='rate')\n",
    "summe =c_rate.groupby(\"hotel\")['rate'].transform(\"sum\")#The transform function returns the operation on each group of data in this case sum.\n",
    "c_rate['rate']=c_rate['rate'].div(summe)\n",
    "c_rate\n",
    "#The city has a higher rate of cancellation.It can be because of its cheap and most of the hotels don't have any proper \n",
    "#administrative policies"
   ]
  },
  {
   "cell_type": "code",
   "execution_count": 162,
   "id": "9cc6ed06",
   "metadata": {},
   "outputs": [
    {
     "data": {
      "text/plain": [
       "[Text(0, 0, 'Not canceled'), Text(1, 0, 'canceled')]"
      ]
     },
     "execution_count": 162,
     "metadata": {},
     "output_type": "execute_result"
    },
    {
     "data": {
      "image/png": "[encoded data removed]",
      "text/plain": [
       "<Figure size 720x360 with 1 Axes>"
      ]
     },
     "metadata": {
      "needs_background": "light"
     },
     "output_type": "display_data"
    }
   ],
   "source": [
    "\"\"\"If we onserve the previous cancellation column of the customer who have cancelled at present, then they have a tendency \n",
    "to cancel\"\"\"\n",
    "prev_can=hb.groupby('is_canceled',as_index=False)[['previous_cancellations']].mean()\n",
    "plt.figure(figsize=(10,5))\n",
    "plt.title(\"Customers with the history of cancellations\",fontsize=16)\n",
    "hoc=sns.barplot(data=prev_can,x=prev_can['is_canceled'],y=prev_can['previous_cancellations'],palette='Greens')\n",
    "hoc.set_xticklabels(['Not canceled','canceled'])"
   ]
  },
  {
   "cell_type": "code",
   "execution_count": 163,
   "id": "8493b757",
   "metadata": {},
   "outputs": [
    {
     "data": {
      "text/plain": [
       "No Deposit    73297\n",
       "Non Refund      845\n",
       "Refundable       36\n",
       "Name: deposit_type, dtype: int64"
      ]
     },
     "execution_count": 163,
     "metadata": {},
     "output_type": "execute_result"
    }
   ],
   "source": [
    "#relation between the deposit type and cancellations\n",
    "hb['deposit_type'].value_counts()"
   ]
  },
  {
   "cell_type": "code",
   "execution_count": 164,
   "id": "bdeda075",
   "metadata": {},
   "outputs": [
    {
     "data": {
      "text/html": [
       "<div>\n",
       "<style scoped>\n",
       "    .dataframe tbody tr th:only-of-type {\n",
       "        vertical-align: middle;\n",
       "    }\n",
       "\n",
       "    .dataframe tbody tr th {\n",
       "        vertical-align: top;\n",
       "    }\n",
       "\n",
       "    .dataframe thead th {\n",
       "        text-align: right;\n",
       "    }\n",
       "</style>\n",
       "<table border=\"1\" class=\"dataframe\">\n",
       "  <thead>\n",
       "    <tr style=\"text-align: right;\">\n",
       "      <th></th>\n",
       "      <th>count</th>\n",
       "      <th>mean</th>\n",
       "      <th>std</th>\n",
       "      <th>min</th>\n",
       "      <th>25%</th>\n",
       "      <th>50%</th>\n",
       "      <th>75%</th>\n",
       "      <th>max</th>\n",
       "    </tr>\n",
       "    <tr>\n",
       "      <th>deposit_type</th>\n",
       "      <th></th>\n",
       "      <th></th>\n",
       "      <th></th>\n",
       "      <th></th>\n",
       "      <th></th>\n",
       "      <th></th>\n",
       "      <th></th>\n",
       "      <th></th>\n",
       "    </tr>\n",
       "  </thead>\n",
       "  <tbody>\n",
       "    <tr>\n",
       "      <th>No Deposit</th>\n",
       "      <td>73297.0</td>\n",
       "      <td>0.293887</td>\n",
       "      <td>0.455544</td>\n",
       "      <td>0.0</td>\n",
       "      <td>0.0</td>\n",
       "      <td>0.0</td>\n",
       "      <td>1.0</td>\n",
       "      <td>1.0</td>\n",
       "    </tr>\n",
       "    <tr>\n",
       "      <th>Non Refund</th>\n",
       "      <td>845.0</td>\n",
       "      <td>0.975148</td>\n",
       "      <td>0.155766</td>\n",
       "      <td>0.0</td>\n",
       "      <td>1.0</td>\n",
       "      <td>1.0</td>\n",
       "      <td>1.0</td>\n",
       "      <td>1.0</td>\n",
       "    </tr>\n",
       "    <tr>\n",
       "      <th>Refundable</th>\n",
       "      <td>36.0</td>\n",
       "      <td>0.555556</td>\n",
       "      <td>0.503953</td>\n",
       "      <td>0.0</td>\n",
       "      <td>0.0</td>\n",
       "      <td>1.0</td>\n",
       "      <td>1.0</td>\n",
       "      <td>1.0</td>\n",
       "    </tr>\n",
       "  </tbody>\n",
       "</table>\n",
       "</div>"
      ],
      "text/plain": [
       "                count      mean       std  min  25%  50%  75%  max\n",
       "deposit_type                                                      \n",
       "No Deposit    73297.0  0.293887  0.455544  0.0  0.0  0.0  1.0  1.0\n",
       "Non Refund      845.0  0.975148  0.155766  0.0  1.0  1.0  1.0  1.0\n",
       "Refundable       36.0  0.555556  0.503953  0.0  0.0  1.0  1.0  1.0"
      ]
     },
     "execution_count": 164,
     "metadata": {},
     "output_type": "execute_result"
    }
   ],
   "source": [
    "dep_can_data=hb.groupby(\"deposit_type\")[\"is_canceled\"].describe()\n",
    "dep_can_data"
   ]
  },
  {
   "cell_type": "code",
   "execution_count": 165,
   "id": "f979d311",
   "metadata": {},
   "outputs": [
    {
     "data": {
      "image/png": "[encoded data removed]",
      "text/plain": [
       "<Figure size 720x360 with 1 Axes>"
      ]
     },
     "metadata": {
      "needs_background": "light"
     },
     "output_type": "display_data"
    },
    {
     "data": {
      "text/plain": [
       "'When there is no deposit policy people tend to cancel more.'"
      ]
     },
     "execution_count": 165,
     "metadata": {},
     "output_type": "execute_result"
    }
   ],
   "source": [
    "#Now lets visualize it\n",
    "plt.figure(figsize=(10,5))\n",
    "sns.barplot(x=dep_can_data.index,y=dep_can_data[\"count\"]/100,palette=\"Greens\")#bar graph\n",
    "plt.title(\"Effect of deposit type on cancellation\",fontsize=16)\n",
    "plt.xlabel(\"Deposit type\",fontsize=12)\n",
    "plt.ylabel(\"Cancellations(%)\",fontsize=12)\n",
    "plt.show()\n",
    "\"\"\"When there is no deposit policy people tend to cancel more.\"\"\""
   ]
  },
  {
   "cell_type": "code",
   "execution_count": 166,
   "id": "c3ccb01f",
   "metadata": {},
   "outputs": [],
   "source": [
    "hb_resort=hb[hb['hotel']=='Resort Hotel']\n",
    "hb_city=hb[hb['hotel']=='City Hotel']"
   ]
  },
  {
   "cell_type": "code",
   "execution_count": 167,
   "id": "4cf89d43",
   "metadata": {},
   "outputs": [
    {
     "data": {
      "image/png": "[encoded data removed]",
      "text/plain": [
       "<Figure size 720x360 with 1 Axes>"
      ]
     },
     "metadata": {
      "needs_background": "light"
     },
     "output_type": "display_data"
    },
    {
     "data": {
      "image/png": "[encoded data removed]",
      "text/plain": [
       "<Figure size 720x360 with 1 Axes>"
      ]
     },
     "metadata": {
      "needs_background": "light"
     },
     "output_type": "display_data"
    },
    {
     "data": {
      "text/plain": [
       "'According to the graphs below customers who are in contract or in groups'"
      ]
     },
     "execution_count": 167,
     "metadata": {},
     "output_type": "execute_result"
    }
   ],
   "source": [
    "#Relation between customer_type and cancellations\n",
    "#Cancellation for each customer type in city hotels\n",
    "plt.figure(figsize=(10,5))\n",
    "city_hotel=sns.countplot(data=hb_city,x='is_canceled',hue='customer_type',palette='Greens')\n",
    "plt.title('Cancellation for each customer type in city hotels')\n",
    "city_hotel.set_xticklabels(['Not Cancelled','Cancelled'])\n",
    "plt.show()\n",
    "\n",
    "#Cancellation for each customer type in resort hotels   \n",
    "plt.figure(figsize=(10,5))\n",
    "resort_hotel=sns.countplot(data=hb_resort,x='is_canceled',hue='customer_type',palette='Greens')\n",
    "plt.title('Cancellation for each customer type in resort hotels')\n",
    "resort_hotel.set_xticklabels(['Not Cancelled','Cancelled'])\n",
    "plt.show()\n",
    "\"\"\"According to the graphs below customers who are in contract or in groups\"\"\""
   ]
  },
  {
   "cell_type": "code",
   "execution_count": 168,
   "id": "3a219a9b",
   "metadata": {},
   "outputs": [
    {
     "data": {
      "image/png": "[encoded data removed]",
      "text/plain": [
       "<Figure size 1440x360 with 1 Axes>"
      ]
     },
     "metadata": {
      "needs_background": "light"
     },
     "output_type": "display_data"
    },
    {
     "data": {
      "image/png": "[encoded data removed]",
      "text/plain": [
       "<Figure size 1440x360 with 1 Axes>"
      ]
     },
     "metadata": {
      "needs_background": "light"
     },
     "output_type": "display_data"
    }
   ],
   "source": [
    "#Relation between different months with cancellations in city hotel\n",
    "plt.figure(figsize=(20,5))\n",
    "sns.countplot(data=hb_city,x='arrival_date_month',hue='is_canceled',palette='Greens',order=[\"January\",\"February\",\"March\",\n",
    "\"April\",\"May\",\"June\",\"July\",\"August\",\"September\",\"October\",\"November\",\"December\"])\n",
    "plt.title(\"Cancellations across months for city hotel\")\n",
    "plt.legend(['not cancelled','canceled'],shadow=True,loc=0)\n",
    "plt.show()\n",
    "\n",
    "#Relation between different months with cancellations in resort hotel\n",
    "plt.figure(figsize=(20,5))\n",
    "sns.countplot(data=hb_resort,x='arrival_date_month',hue='is_canceled',palette='Greens',order=[\"January\",\"February\",\"March\",\n",
    "\"April\",\"May\",\"June\",\"July\",\"August\",\"September\",\"October\",\"November\",\"December\"])\n",
    "plt.title(\"Cancellations across months for resort hotel\")\n",
    "plt.legend(['not cancelled','canceled'],shadow=True,loc=0)\n",
    "plt.show()"
   ]
  },
  {
   "cell_type": "code",
   "execution_count": 169,
   "id": "d4d0a154",
   "metadata": {},
   "outputs": [
    {
     "data": {
      "image/png": "[encoded data removed]",
      "text/plain": [
       "<Figure size 720x360 with 1 Axes>"
      ]
     },
     "metadata": {
      "needs_background": "light"
     },
     "output_type": "display_data"
    },
    {
     "data": {
      "text/plain": [
       "'According to the graph below bookings made many days advance are cancelled more often'"
      ]
     },
     "execution_count": 169,
     "metadata": {},
     "output_type": "execute_result"
    }
   ],
   "source": [
    "#Lead time is the no. of days before it is booked\n",
    "lead_can=hb.groupby(\"lead_time\")[\"is_canceled\"].describe()\n",
    "\n",
    "#We will only be using regular customers for this query.\n",
    "#Customers who have more than 10 bookings\n",
    "lead_can_10=lead_can.loc[lead_can[\"count\"]>=10]\n",
    "lead_can_10\n",
    "\n",
    "#Now let's visualize it\n",
    "plt.figure(figsize=(10,5))\n",
    "sns.regplot(x=lead_can_10.index,y=lead_can_10[\"mean\"].values*100)\n",
    "plt.title(\"Relation between lead time and cancellation\")\n",
    "plt.xlabel(\"Lead time\",fontsize=12)\n",
    "plt.ylabel(\"Cancellations[%]\",fontsize=12)\n",
    "plt.show()\n",
    "\"\"\"According to the graph below bookings made many days advance are cancelled more often\"\"\""
   ]
  },
  {
   "cell_type": "code",
   "execution_count": 170,
   "id": "8919fc76",
   "metadata": {},
   "outputs": [
    {
     "data": {
      "text/plain": [
       "'\\nTo conclude the analysis we have some solutions to the above problems\\n1.There should be a database for customer profiles where it is mentioned that they have cancelled one or more times in the \\nlast year. There should be a limitation of how many times a customer can cancel bookings in a year.\\n2.Every hotel should have a percentage of cancellation charge added to the main bill.This can be applied everytime or peak\\ntime(July,August,September) of the year.\\n3.The hotels can charge no cancellation fee if there is a booking for a whole group or are in contract because they cancel\\nless \\n4.The hotels should not allow booking prior to more than 60 days.'"
      ]
     },
     "execution_count": 170,
     "metadata": {},
     "output_type": "execute_result"
    }
   ],
   "source": [
    "\"\"\"\n",
    "To conclude the analysis we have some solutions to the above problems\n",
    "1.There should be a database for customer profiles where it is mentioned that they have cancelled one or more times in the \n",
    "last year. There should be a limitation of how many times a customer can cancel bookings in a year.\n",
    "2.Every hotel should have a percentage of cancellation charge added to the main bill.This can be applied everytime or peak\n",
    "time(July,August,September) of the year.\n",
    "3.The hotels can charge no cancellation fee if there is a booking for a whole group or are in contract because they cancel\n",
    "less \n",
    "4.The hotels should not allow booking prior to more than 60 days.\"\"\""
   ]
  }
 ],
 "metadata": {
  "kernelspec": {
   "display_name": "Python 3 (ipykernel)",
   "language": "python",
   "name": "python3"
  },
  "language_info": {
   "codemirror_mode": {
    "name": "ipython",
    "version": 3
   },
   "file_extension": ".py",
   "mimetype": "text/x-python",
   "name": "python",
   "nbconvert_exporter": "python",
   "pygments_lexer": "ipython3",
   "version": "3.9.7"
  }
 },
 "nbformat": 4,
 "nbformat_minor": 5
}
